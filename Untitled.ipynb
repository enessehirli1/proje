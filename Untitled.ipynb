{
 "cells": [
  {
   "cell_type": "code",
   "execution_count": 10,
   "id": "bacd0d2b-d275-47e1-942d-240971be6f50",
   "metadata": {},
   "outputs": [
    {
     "data": {
      "text/plain": [
       "0.30000000000000004"
      ]
     },
     "execution_count": 10,
     "metadata": {},
     "output_type": "execute_result"
    }
   ],
   "source": [
    "0.1 + 0.2"
   ]
  },
  {
   "cell_type": "code",
   "execution_count": 16,
   "id": "16729f3f-e05c-4913-b5db-e105b2bccfa9",
   "metadata": {},
   "outputs": [
    {
     "name": "stdout",
     "output_type": "stream",
     "text": [
      "a\n"
     ]
    }
   ],
   "source": [
    "print(chr((65+32)))"
   ]
  },
  {
   "cell_type": "code",
   "execution_count": 21,
   "id": "d24daa96-d1e9-4ede-a3bb-1563dc524b11",
   "metadata": {},
   "outputs": [],
   "source": [
    "file = open(\"deneme.txt\", \"w\", encoding=\"utf-8\")\n",
    "file.write(\"aİ\")\n",
    "file.close()"
   ]
  },
  {
   "cell_type": "code",
   "execution_count": 24,
   "id": "3f6afa2d-fc5a-49e5-b52b-cf91a6134a2f",
   "metadata": {},
   "outputs": [],
   "source": [
    "with open(\"deneme.txt\", \"w\", encoding=\"utf-8\") as f:\n",
    "    f.write(\"İĞÇŞ\")"
   ]
  },
  {
   "cell_type": "code",
   "execution_count": null,
   "id": "584bc50c-ecb5-4425-985c-f820c8fab127",
   "metadata": {},
   "outputs": [],
   "source": []
  }
 ],
 "metadata": {
  "kernelspec": {
   "display_name": "Python 3 (ipykernel)",
   "language": "python",
   "name": "python3"
  },
  "language_info": {
   "codemirror_mode": {
    "name": "ipython",
    "version": 3
   },
   "file_extension": ".py",
   "mimetype": "text/x-python",
   "name": "python",
   "nbconvert_exporter": "python",
   "pygments_lexer": "ipython3",
   "version": "3.12.4"
  }
 },
 "nbformat": 4,
 "nbformat_minor": 5
}
